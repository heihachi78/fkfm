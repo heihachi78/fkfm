{
 "cells": [
  {
   "cell_type": "markdown",
   "metadata": {
    "id": "armjw2OVQ0nr"
   },
   "source": [
    "# 1. Függvénykönyvtárak importálása\n",
    "\n",
    "Amennyiben az importálás sikertelen, vagy nem érhető el az alábbi commandokkal telepítheted a csomagokat.\n",
    "\n",
    "\n",
    "\n",
    "```\n",
    "!pip install matplotlib\n",
    "!pip install numpy\n",
    "!pip install pandas\n",
    "```\n",
    "\n",
    "\n"
   ]
  },
  {
   "cell_type": "code",
   "execution_count": 29,
   "metadata": {
    "colab": {
     "base_uri": "https://localhost:8080/"
    },
    "executionInfo": {
     "elapsed": 28590,
     "status": "ok",
     "timestamp": 1726576372130,
     "user": {
      "displayName": "Laszlo Czuni",
      "userId": "13506460153375895866"
     },
     "user_tz": -120
    },
    "id": "rafRXnht-P_s",
    "outputId": "1f64baad-e285-44b5-ad8e-ef44cc77a5f4"
   },
   "outputs": [],
   "source": [
    "#from google.colab import drive\n",
    "#drive.mount('/content/drive')"
   ]
  },
  {
   "cell_type": "code",
   "execution_count": 30,
   "metadata": {
    "id": "8EUKlwZIQf7a"
   },
   "outputs": [],
   "source": [
    "from matplotlib import pyplot as plt\n",
    "import numpy as np\n",
    "import pandas as pd"
   ]
  },
  {
   "cell_type": "markdown",
   "metadata": {
    "id": "obzrK4zTwLhy"
   },
   "source": [
    "# 2. Néhány alap függvény a NumPy csomagból\n",
    "A NumPy egy Python könyvtár, amelyet számításokhoz és adatmanipulációhoz használnak. A NumPy (Numerical Python) tudományos számításokra specializálódott. Lehetővé teszi tömbök, mátrixok hatékony létrehozását, és az azokkal való hatékony művelet végrehajtást."
   ]
  },
  {
   "cell_type": "markdown",
   "metadata": {
    "id": "rotHGrRRrhL0"
   },
   "source": [
    "## 2.1 Tömb műveletek"
   ]
  },
  {
   "cell_type": "code",
   "execution_count": 31,
   "metadata": {
    "colab": {
     "base_uri": "https://localhost:8080/"
    },
    "executionInfo": {
     "elapsed": 290,
     "status": "ok",
     "timestamp": 1726576389660,
     "user": {
      "displayName": "Laszlo Czuni",
      "userId": "13506460153375895866"
     },
     "user_tz": -120
    },
    "id": "T9jTptjBytFV",
    "outputId": "23b8c55b-edf9-4f18-b0f9-0b27596b2f33"
   },
   "outputs": [
    {
     "name": "stdout",
     "output_type": "stream",
     "text": [
      "NumPy tömb létrehozása:\n",
      "[1 2 3 4 5]\n"
     ]
    }
   ],
   "source": [
    "# 1. NumPy tömb létrehozása\n",
    "arr = np.array([1, 2, 3, 4, 5])\n",
    "print(\"NumPy tömb létrehozása:\")\n",
    "print(arr)"
   ]
  },
  {
   "cell_type": "code",
   "execution_count": 32,
   "metadata": {
    "colab": {
     "base_uri": "https://localhost:8080/"
    },
    "executionInfo": {
     "elapsed": 275,
     "status": "ok",
     "timestamp": 1726576405895,
     "user": {
      "displayName": "Laszlo Czuni",
      "userId": "13506460153375895866"
     },
     "user_tz": -120
    },
    "id": "eTgnq_M9qyrX",
    "outputId": "56f835f1-f95d-4731-bf84-f43d96dbd76a"
   },
   "outputs": [
    {
     "name": "stdout",
     "output_type": "stream",
     "text": [
      "\n",
      "Tömb mérete és típusa:\n",
      "Méret: (5,)\n",
      "Típus: int64\n"
     ]
    }
   ],
   "source": [
    "# 2. Tömb alapvető információk\n",
    "print(\"\\nTömb mérete és típusa:\")\n",
    "print(\"Méret:\", arr.shape)\n",
    "print(\"Típus:\", arr.dtype)"
   ]
  },
  {
   "cell_type": "code",
   "execution_count": 33,
   "metadata": {
    "colab": {
     "base_uri": "https://localhost:8080/"
    },
    "executionInfo": {
     "elapsed": 291,
     "status": "ok",
     "timestamp": 1726576421154,
     "user": {
      "displayName": "Laszlo Czuni",
      "userId": "13506460153375895866"
     },
     "user_tz": -120
    },
    "id": "ryfHSwchq13V",
    "outputId": "49bbe096-39fa-4779-918c-4d5b7aecff61"
   },
   "outputs": [
    {
     "name": "stdout",
     "output_type": "stream",
     "text": [
      "\n",
      "Tömb műveletek:\n",
      "Összeadás: [ 7  9 11 13 15]\n",
      "Kivonás: [-5 -5 -5 -5 -5]\n",
      "Szorzás: [ 6 14 24 36 50]\n",
      "Osztás: [0.16666667 0.28571429 0.375      0.44444444 0.5       ]\n"
     ]
    }
   ],
   "source": [
    "# 3. Tömb műveletek\n",
    "arr2 = np.array([6, 7, 8, 9, 10])\n",
    "print(\"\\nTömb műveletek:\")\n",
    "print(\"Összeadás:\", arr + arr2)\n",
    "print(\"Kivonás:\", arr - arr2)\n",
    "print(\"Szorzás:\", arr * arr2)\n",
    "print(\"Osztás:\", arr / arr2)"
   ]
  },
  {
   "cell_type": "code",
   "execution_count": 34,
   "metadata": {
    "colab": {
     "base_uri": "https://localhost:8080/"
    },
    "executionInfo": {
     "elapsed": 266,
     "status": "ok",
     "timestamp": 1726576427094,
     "user": {
      "displayName": "Laszlo Czuni",
      "userId": "13506460153375895866"
     },
     "user_tz": -120
    },
    "id": "4I_pVMGAq4qO",
    "outputId": "68070112-fabe-421b-8087-0ab3d404e6a8"
   },
   "outputs": [
    {
     "name": "stdout",
     "output_type": "stream",
     "text": [
      "\n",
      "Tömb elemeinek kiválasztása:\n",
      "Első elem: 1\n",
      "Tartomány kiválasztása: [2 3 4]\n"
     ]
    }
   ],
   "source": [
    "# 4. Tömb elemeinek kiválasztása\n",
    "print(\"\\nTömb elemeinek kiválasztása:\")\n",
    "print(\"Első elem:\", arr[0])\n",
    "print(\"Tartomány kiválasztása:\", arr[1:4])"
   ]
  },
  {
   "cell_type": "code",
   "execution_count": 35,
   "metadata": {
    "colab": {
     "base_uri": "https://localhost:8080/"
    },
    "executionInfo": {
     "elapsed": 271,
     "status": "ok",
     "timestamp": 1726576434503,
     "user": {
      "displayName": "Laszlo Czuni",
      "userId": "13506460153375895866"
     },
     "user_tz": -120
    },
    "id": "Uv_FbwQCq7Tl",
    "outputId": "d02bb5cd-83da-4497-dbf6-55d4a6baa616"
   },
   "outputs": [
    {
     "name": "stdout",
     "output_type": "stream",
     "text": [
      "\n",
      "Matematikai műveletek tömbön:\n",
      "Átlag: 3.0\n",
      "Szórás: 1.4142135623730951\n",
      "Legnagyobb elem: 5\n",
      "Legkisebb elem: 1\n"
     ]
    }
   ],
   "source": [
    "# 5. Matematikai műveletek tömbön\n",
    "print(\"\\nMatematikai műveletek tömbön:\")\n",
    "print(\"Átlag:\", np.mean(arr))\n",
    "print(\"Szórás:\", np.std(arr))\n",
    "print(\"Legnagyobb elem:\", np.max(arr))\n",
    "print(\"Legkisebb elem:\", np.min(arr))"
   ]
  },
  {
   "cell_type": "code",
   "execution_count": 36,
   "metadata": {
    "colab": {
     "base_uri": "https://localhost:8080/"
    },
    "executionInfo": {
     "elapsed": 280,
     "status": "ok",
     "timestamp": 1726576442639,
     "user": {
      "displayName": "Laszlo Czuni",
      "userId": "13506460153375895866"
     },
     "user_tz": -120
    },
    "id": "XdZk4YYdq9-l",
    "outputId": "51843ce3-2830-4650-efd4-27709ed71496"
   },
   "outputs": [
    {
     "name": "stdout",
     "output_type": "stream",
     "text": [
      "\n",
      "Tömb létrehozása szekvenciával:\n",
      "[ 1  2  3  4  5  6  7  8  9 10]\n"
     ]
    }
   ],
   "source": [
    "# 6. Tömb létrehozása szekvenciával\n",
    "seq = np.arange(1, 11)\n",
    "print(\"\\nTömb létrehozása szekvenciával:\")\n",
    "print(seq)"
   ]
  },
  {
   "cell_type": "code",
   "execution_count": 37,
   "metadata": {
    "colab": {
     "base_uri": "https://localhost:8080/"
    },
    "executionInfo": {
     "elapsed": 270,
     "status": "ok",
     "timestamp": 1726576453847,
     "user": {
      "displayName": "Laszlo Czuni",
      "userId": "13506460153375895866"
     },
     "user_tz": -120
    },
    "id": "xH5SM0eVrAs9",
    "outputId": "eba26572-fcf1-4d04-e7f5-740cba7adff1"
   },
   "outputs": [
    {
     "name": "stdout",
     "output_type": "stream",
     "text": [
      "\n",
      "Tömb létrehozása nullákkal vagy egyekkel:\n",
      "Nullák: [0. 0. 0. 0. 0.]\n",
      "Egyek: [1. 1. 1. 1. 1.]\n"
     ]
    }
   ],
   "source": [
    "# 7. Tömb létrehozása nullákkal vagy egyekkel\n",
    "zeros = np.zeros(5)\n",
    "ones = np.ones(5)\n",
    "print(\"\\nTömb létrehozása nullákkal vagy egyekkel:\")\n",
    "print(\"Nullák:\", zeros)\n",
    "print(\"Egyek:\", ones)"
   ]
  },
  {
   "cell_type": "markdown",
   "metadata": {
    "id": "JPNlpCerruP8"
   },
   "source": [
    "## 2.2 Mátrix műveletek"
   ]
  },
  {
   "cell_type": "code",
   "execution_count": 38,
   "metadata": {
    "colab": {
     "base_uri": "https://localhost:8080/"
    },
    "executionInfo": {
     "elapsed": 266,
     "status": "ok",
     "timestamp": 1726576468867,
     "user": {
      "displayName": "Laszlo Czuni",
      "userId": "13506460153375895866"
     },
     "user_tz": -120
    },
    "id": "YOWQwfpSzsqS",
    "outputId": "1f493f87-8bb0-4530-8232-f29e09732034"
   },
   "outputs": [
    {
     "name": "stdout",
     "output_type": "stream",
     "text": [
      "Mátrix létrehozása:\n",
      "[[1 2 3]\n",
      " [4 5 6]\n",
      " [7 8 9]]\n"
     ]
    }
   ],
   "source": [
    "# 1. Mátrix létrehozása\n",
    "matrix = np.array([[1, 2, 3],\n",
    "                   [4, 5, 6],\n",
    "                   [7, 8, 9]])\n",
    "print(\"Mátrix létrehozása:\")\n",
    "print(matrix)"
   ]
  },
  {
   "cell_type": "code",
   "execution_count": 39,
   "metadata": {
    "colab": {
     "base_uri": "https://localhost:8080/"
    },
    "executionInfo": {
     "elapsed": 259,
     "status": "ok",
     "timestamp": 1726576474095,
     "user": {
      "displayName": "Laszlo Czuni",
      "userId": "13506460153375895866"
     },
     "user_tz": -120
    },
    "id": "mHtPrpU3rTfW",
    "outputId": "adc2696d-a0bb-42af-b479-5a7102981782"
   },
   "outputs": [
    {
     "name": "stdout",
     "output_type": "stream",
     "text": [
      "\n",
      "Mátrix mérete és típusa:\n",
      "Méret: (3, 3)\n",
      "Típus: int64\n"
     ]
    }
   ],
   "source": [
    "# 2. Mátrix mérete és típusa\n",
    "print(\"\\nMátrix mérete és típusa:\")\n",
    "print(\"Méret:\", matrix.shape)\n",
    "print(\"Típus:\", matrix.dtype)"
   ]
  },
  {
   "cell_type": "code",
   "execution_count": 40,
   "metadata": {
    "colab": {
     "base_uri": "https://localhost:8080/"
    },
    "executionInfo": {
     "elapsed": 254,
     "status": "ok",
     "timestamp": 1726576480554,
     "user": {
      "displayName": "Laszlo Czuni",
      "userId": "13506460153375895866"
     },
     "user_tz": -120
    },
    "id": "n5a4qTFcrVhs",
    "outputId": "80e265df-69bf-4d31-d2e5-a88903012e55"
   },
   "outputs": [
    {
     "name": "stdout",
     "output_type": "stream",
     "text": [
      "\n",
      "Mátrix műveletek:\n",
      "Összeadás:\n",
      "[[10 10 10]\n",
      " [10 10 10]\n",
      " [10 10 10]]\n",
      "Kivonás:\n",
      "[[-8 -6 -4]\n",
      " [-2  0  2]\n",
      " [ 4  6  8]]\n",
      "Szorzás (elemenkénti):\n",
      "[[ 9 16 21]\n",
      " [24 25 24]\n",
      " [21 16  9]]\n",
      "Mátrix szorzás:\n",
      "[[ 30  24  18]\n",
      " [ 84  69  54]\n",
      " [138 114  90]]\n"
     ]
    }
   ],
   "source": [
    "# 3. Mátrix műveletek\n",
    "matrix2 = np.array([[9, 8, 7],\n",
    "                    [6, 5, 4],\n",
    "                    [3, 2, 1]])\n",
    "print(\"\\nMátrix műveletek:\")\n",
    "print(\"Összeadás:\")\n",
    "print(matrix + matrix2)\n",
    "print(\"Kivonás:\")\n",
    "print(matrix - matrix2)\n",
    "print(\"Szorzás (elemenkénti):\")\n",
    "print(matrix * matrix2)\n",
    "print(\"Mátrix szorzás:\")\n",
    "print(np.dot(matrix, matrix2))"
   ]
  },
  {
   "cell_type": "code",
   "execution_count": 41,
   "metadata": {
    "colab": {
     "base_uri": "https://localhost:8080/"
    },
    "executionInfo": {
     "elapsed": 266,
     "status": "ok",
     "timestamp": 1726576489892,
     "user": {
      "displayName": "Laszlo Czuni",
      "userId": "13506460153375895866"
     },
     "user_tz": -120
    },
    "id": "aH6GrHMqrX8F",
    "outputId": "65d650a7-4ad0-4ce8-f239-a2d6521ea965"
   },
   "outputs": [
    {
     "name": "stdout",
     "output_type": "stream",
     "text": [
      "\n",
      "Mátrix elemeinek kiválasztása:\n",
      "Egy adott elem: 5\n",
      "Egy sor kiválasztása:\n",
      "[1 2 3]\n",
      "Egy oszlop kiválasztása:\n",
      "[3 6 9]\n"
     ]
    }
   ],
   "source": [
    "# 4. Mátrix elemeinek kiválasztása\n",
    "print(\"\\nMátrix elemeinek kiválasztása:\")\n",
    "print(\"Egy adott elem:\", matrix[1, 1])\n",
    "print(\"Egy sor kiválasztása:\")\n",
    "print(matrix[0, :])\n",
    "print(\"Egy oszlop kiválasztása:\")\n",
    "print(matrix[:, 2])"
   ]
  },
  {
   "cell_type": "code",
   "execution_count": 42,
   "metadata": {
    "colab": {
     "base_uri": "https://localhost:8080/"
    },
    "id": "PlJD_kBdrZfM",
    "outputId": "a95fdc4a-52aa-4c22-b29f-3da7ad6cb952"
   },
   "outputs": [
    {
     "name": "stdout",
     "output_type": "stream",
     "text": [
      "\n",
      "Mátrix műveletek:\n",
      "Transzponálás:\n",
      "[[1 4 7]\n",
      " [2 5 8]\n",
      " [3 6 9]]\n",
      "Determináns számítása:\n",
      "-9.51619735392994e-16\n",
      "Inverz számítása:\n",
      "Mátrix inverze:\n",
      "[[-4.50359963e+15  9.00719925e+15 -4.50359963e+15]\n",
      " [ 9.00719925e+15 -1.80143985e+16  9.00719925e+15]\n",
      " [-4.50359963e+15  9.00719925e+15 -4.50359963e+15]]\n"
     ]
    }
   ],
   "source": [
    "# 5. Mátrix műveletek\n",
    "print(\"\\nMátrix műveletek:\")\n",
    "print(\"Transzponálás:\")\n",
    "print(np.transpose(matrix))\n",
    "print(\"Determináns számítása:\")\n",
    "print(np.linalg.det(matrix))\n",
    "print(\"Inverz számítása:\")\n",
    "# Mátrix determinánsának ellenőrzése\n",
    "determinant = np.linalg.det(matrix)\n",
    "if determinant == 0:\n",
    "    print(\"A mátrix szinguláris, nincs inverze.\")\n",
    "else:\n",
    "    # Inverz számítása csak nem szinguláris mátrixra\n",
    "    inverse_matrix = np.linalg.inv(matrix)\n",
    "    print(\"Mátrix inverze:\")\n",
    "    print(inverse_matrix)"
   ]
  },
  {
   "cell_type": "code",
   "execution_count": 43,
   "metadata": {
    "colab": {
     "base_uri": "https://localhost:8080/"
    },
    "id": "WOlHV5nfrekU",
    "outputId": "750be09c-0c1c-43b8-a577-9447a45f320f"
   },
   "outputs": [
    {
     "name": "stdout",
     "output_type": "stream",
     "text": [
      "\n",
      "Mátrix létrehozása nullákkal vagy egyekkel:\n",
      "Nulla mátrix:\n",
      "[[0. 0. 0.]\n",
      " [0. 0. 0.]\n",
      " [0. 0. 0.]]\n",
      "Egységmátrix:\n",
      "[[1. 1. 1.]\n",
      " [1. 1. 1.]\n",
      " [1. 1. 1.]]\n"
     ]
    }
   ],
   "source": [
    "# 6. Mátrix létrehozása nullákkal vagy egyekkel\n",
    "zeros_matrix = np.zeros((3, 3))\n",
    "ones_matrix = np.ones((3, 3))\n",
    "print(\"\\nMátrix létrehozása nullákkal vagy egyekkel:\")\n",
    "print(\"Nulla mátrix:\")\n",
    "print(zeros_matrix)\n",
    "print(\"Egységmátrix:\")\n",
    "print(ones_matrix)"
   ]
  },
  {
   "cell_type": "code",
   "execution_count": 44,
   "metadata": {
    "colab": {
     "base_uri": "https://localhost:8080/"
    },
    "id": "Oe84TvNs9aRh",
    "outputId": "ef6d2f4b-da67-42ff-f8f0-2907f6e962e8"
   },
   "outputs": [
    {
     "name": "stdout",
     "output_type": "stream",
     "text": [
      "Mátrixszorzás eredménye:\n",
      "[[ 30  24  18]\n",
      " [ 84  69  54]\n",
      " [138 114  90]]\n"
     ]
    }
   ],
   "source": [
    "# Két mátrix létrehozása\n",
    "matrix_A = np.array([[1, 2, 3],\n",
    "                     [4, 5, 6],\n",
    "                     [7, 8, 9]])\n",
    "\n",
    "matrix_B = np.array([[9, 8, 7],\n",
    "                     [6, 5, 4],\n",
    "                     [3, 2, 1]])\n",
    "\n",
    "# Mátrixszorzás\n",
    "result_matrix = np.dot(matrix_A, matrix_B)\n",
    "print(\"Mátrixszorzás eredménye:\")\n",
    "print(result_matrix)"
   ]
  },
  {
   "cell_type": "code",
   "execution_count": 45,
   "metadata": {
    "colab": {
     "base_uri": "https://localhost:8080/"
    },
    "id": "YGML1l7I9vhE",
    "outputId": "519815bc-f30c-413e-b299-cab41d525711"
   },
   "outputs": [
    {
     "name": "stdout",
     "output_type": "stream",
     "text": [
      "\n",
      "Mátrix A transzponáltja:\n",
      "[[1 4 7]\n",
      " [2 5 8]\n",
      " [3 6 9]]\n"
     ]
    }
   ],
   "source": [
    "# Mátrix transzponálása\n",
    "transposed_matrix_A = np.transpose(matrix_A)\n",
    "print(\"\\nMátrix A transzponáltja:\")\n",
    "print(transposed_matrix_A)"
   ]
  },
  {
   "cell_type": "code",
   "execution_count": 46,
   "metadata": {
    "colab": {
     "base_uri": "https://localhost:8080/"
    },
    "id": "DXC0Mb4Q94lN",
    "outputId": "5cdf7ad7-6ed2-4d72-e516-46d5c4edc9b2"
   },
   "outputs": [
    {
     "name": "stdout",
     "output_type": "stream",
     "text": [
      "\n",
      "Mátrix A determinánsa:\n",
      "-9.51619735392994e-16\n"
     ]
    }
   ],
   "source": [
    "# Mátrix determináns számítása\n",
    "determinant_A = np.linalg.det(matrix_A)\n",
    "print(\"\\nMátrix A determinánsa:\")\n",
    "print(determinant_A)"
   ]
  },
  {
   "cell_type": "markdown",
   "metadata": {
    "id": "TFVxPfck0Ktd"
   },
   "source": [
    "# 3. Néhány alap függvény az MatPlotLib csomagból\n",
    "A Matplotlib egy Python könyvtár, amelyet adatvizualizációhoz és grafikonok készítéséhez használnak. A Matplotlib lehetővé teszi a fejlesztők számára, hogy különböző típusú grafikonokat, diagramokat, ábrákat és más vizualizációs elemeket hozzanak létre a Python programjaikban. Ezzel a könyvtárral számos adatot könnyen és hatékonyan meg lehet jeleníteni, ami segít az adatok vizsgálatában és megértésében."
   ]
  },
  {
   "cell_type": "markdown",
   "metadata": {
    "id": "mQZfeF2nr9WV"
   },
   "source": [
    "## 3.1 Vonal diagram létrehozása, kirajzolása"
   ]
  },
  {
   "cell_type": "code",
   "execution_count": 47,
   "metadata": {
    "colab": {
     "base_uri": "https://localhost:8080/",
     "height": 472
    },
    "id": "_2Tg0VKQ0Q2l",
    "outputId": "dcfc75ee-c7b6-498a-b90a-d1ed738645b1"
   },
   "outputs": [
    {
     "data": {
      "image/png": "[encoded data removed]",
      "text/plain": [
       "<Figure size 640x480 with 1 Axes>"
      ]
     },
     "metadata": {},
     "output_type": "display_data"
    }
   ],
   "source": [
    "# Adatok definiálása\n",
    "x = [1, 2, 3, 4, 5]  # x tengely értékei\n",
    "y = [2, 4, 6, 8, 10]  # y tengely értékei\n",
    "\n",
    "# Vonaldiagram létrehozása\n",
    "plt.plot(x, y)\n",
    "\n",
    "# Diagram címe és tengelyfeliratok\n",
    "plt.title('Egyszerű Vonaldiagram')\n",
    "plt.xlabel('X tengely')\n",
    "plt.ylabel('Y tengely')\n",
    "\n",
    "# Diagram megjelenítése\n",
    "plt.show()\n"
   ]
  },
  {
   "cell_type": "markdown",
   "metadata": {
    "id": "UWquvAlUsOGl"
   },
   "source": [
    "## 3.2 Oszlop diagram létrehozása, kirajzolása"
   ]
  },
  {
   "cell_type": "code",
   "execution_count": 48,
   "metadata": {
    "colab": {
     "base_uri": "https://localhost:8080/",
     "height": 473
    },
    "id": "LSw6UtPU1Aw6",
    "outputId": "990deeff-25ec-4bba-e826-f578ad50f2d2"
   },
   "outputs": [
    {
     "data": {
      "image/png": "[encoded data removed]",
      "text/plain": [
       "<Figure size 640x480 with 1 Axes>"
      ]
     },
     "metadata": {},
     "output_type": "display_data"
    }
   ],
   "source": [
    "# Adatok definiálása\n",
    "categories = ['A', 'B', 'C', 'D', 'E']  # Kategóriák\n",
    "values = [15, 28, 24, 20, 18]  # Oszlopok magassága\n",
    "\n",
    "# Oszlopdiagram létrehozása\n",
    "plt.bar(categories, values)\n",
    "\n",
    "# Diagram címe és tengelyfeliratok\n",
    "plt.title('Oszlopdiagram példa')\n",
    "plt.xlabel('Kategóriák')\n",
    "plt.ylabel('Értékek')\n",
    "\n",
    "# Diagram megjelenítése\n",
    "plt.show()\n"
   ]
  },
  {
   "cell_type": "markdown",
   "metadata": {
    "id": "VE9-195ssSzF"
   },
   "source": [
    "## 3.3 Sinus görbe létrehozása, kirajzolása"
   ]
  },
  {
   "cell_type": "code",
   "execution_count": 49,
   "metadata": {
    "colab": {
     "base_uri": "https://localhost:8080/",
     "height": 472
    },
    "id": "YoiRWKVa1N6_",
    "outputId": "9ece3896-d591-43dd-8481-0ca8c14c2677"
   },
   "outputs": [
    {
     "data": {
      "image/png": "[encoded data removed]",
      "text/plain": [
       "<Figure size 640x480 with 1 Axes>"
      ]
     },
     "metadata": {},
     "output_type": "display_data"
    }
   ],
   "source": [
    "# Adatok létrehozása\n",
    "x = np.linspace(0, 2 * np.pi, 100)  # 0-tól 2π-ig tartó 100 egyenletes lépésű pont\n",
    "y = np.sin(x)  # Sinus függvény értékei\n",
    "\n",
    "# Vonal vagy görbe kirajzolása\n",
    "plt.plot(x, y)\n",
    "\n",
    "# Diagram címe és tengelyfeliratok\n",
    "plt.title('Sinus görbe')\n",
    "plt.xlabel('X tengely')\n",
    "plt.ylabel('Y tengely')\n",
    "\n",
    "# Diagram megjelenítése\n",
    "plt.show()\n"
   ]
  },
  {
   "cell_type": "markdown",
   "metadata": {
    "id": "Ps6tLYcq2KGK"
   },
   "source": [
    "# 4. Néhány alap függvény a Pandas csomagból\n",
    "A Pandas egy Python könyvtár és adattárolási, -manipulációs és -elemzési eszköz, amely különösen erőteljes és népszerű az adatok feldolgozásában és analízisében. A Pandas segítségével könnyedén lehet dolgozni strukturált adatokkal, például táblázatokkal és adatkeretekkel, és lehetővé teszi az ilyen adatok importálását, exportálását, szűrését, csoportosítását, aggregálását és vizualizációját."
   ]
  },
  {
   "cell_type": "markdown",
   "metadata": {
    "id": "RJQQKAGwss1t"
   },
   "source": [
    "## 4.1 Adattábla műveletek"
   ]
  },
  {
   "cell_type": "code",
   "execution_count": 50,
   "metadata": {
    "colab": {
     "base_uri": "https://localhost:8080/"
    },
    "id": "cDEP-Zc-2TVp",
    "outputId": "6e1c37ec-72e2-446a-bdf6-370d1aac6397"
   },
   "outputs": [
    {
     "name": "stdout",
     "output_type": "stream",
     "text": [
      "Eredeti adattábla:\n",
      "      Name  Age           City\n",
      "0    Alice   25       New York\n",
      "1      Bob   30  San Francisco\n",
      "2  Charlie   35    Los Angeles\n",
      "3    David   28        Chicago\n",
      "4      Eva   22          Miami\n"
     ]
    }
   ],
   "source": [
    "# Adattábla létrehozása\n",
    "data = {'Name': ['Alice', 'Bob', 'Charlie', 'David', 'Eva'],\n",
    "        'Age': [25, 30, 35, 28, 22],\n",
    "        'City': ['New York', 'San Francisco', 'Los Angeles', 'Chicago', 'Miami']}\n",
    "\n",
    "df = pd.DataFrame(data)\n",
    "\n",
    "# Adattábla megjelenítése\n",
    "print(\"Eredeti adattábla:\")\n",
    "print(df)"
   ]
  },
  {
   "cell_type": "code",
   "execution_count": 51,
   "metadata": {
    "colab": {
     "base_uri": "https://localhost:8080/"
    },
    "id": "USienleetIHd",
    "outputId": "122f4625-af47-425c-ef4c-aa2423890c1f"
   },
   "outputs": [
    {
     "name": "stdout",
     "output_type": "stream",
     "text": [
      "\n",
      "25 év feletti személyek:\n",
      "      Name  Age           City\n",
      "1      Bob   30  San Francisco\n",
      "2  Charlie   35    Los Angeles\n",
      "3    David   28        Chicago\n"
     ]
    }
   ],
   "source": [
    "# Adatok szűrése\n",
    "filtered_data = df[df['Age'] > 25]\n",
    "print(\"\\n25 év feletti személyek:\")\n",
    "print(filtered_data)"
   ]
  },
  {
   "cell_type": "code",
   "execution_count": 52,
   "metadata": {
    "colab": {
     "base_uri": "https://localhost:8080/"
    },
    "id": "Ez1czdzYtKAd",
    "outputId": "f4a25bac-9d01-4dd1-b714-5206003e5d17"
   },
   "outputs": [
    {
     "name": "stdout",
     "output_type": "stream",
     "text": [
      "\n",
      "Adattábla az új 'Salary' oszloppal:\n",
      "      Name  Age           City  Salary\n",
      "0    Alice   25       New York   50000\n",
      "1      Bob   30  San Francisco   60000\n",
      "2  Charlie   35    Los Angeles   75000\n",
      "3    David   28        Chicago   48000\n",
      "4      Eva   22          Miami   55000\n"
     ]
    }
   ],
   "source": [
    "# Új oszlop hozzáadása\n",
    "df['Salary'] = [50000, 60000, 75000, 48000, 55000]\n",
    "print(\"\\nAdattábla az új 'Salary' oszloppal:\")\n",
    "print(df)"
   ]
  },
  {
   "cell_type": "code",
   "execution_count": 53,
   "metadata": {
    "colab": {
     "base_uri": "https://localhost:8080/"
    },
    "id": "WCCkOJENtLhl",
    "outputId": "654cfa11-5540-432e-e317-43dd0d1f17e4"
   },
   "outputs": [
    {
     "name": "stdout",
     "output_type": "stream",
     "text": [
      "\n",
      "Átnevezett oszlopok:\n",
      "      Name  Életkor          Város  Salary\n",
      "0    Alice       25       New York   50000\n",
      "1      Bob       30  San Francisco   60000\n",
      "2  Charlie       35    Los Angeles   75000\n",
      "3    David       28        Chicago   48000\n",
      "4      Eva       22          Miami   55000\n"
     ]
    }
   ],
   "source": [
    "# Oszlopok átnevezése\n",
    "df.rename(columns={'Age': 'Életkor', 'City': 'Város'}, inplace=True)\n",
    "print(\"\\nÁtnevezett oszlopok:\")\n",
    "print(df)"
   ]
  },
  {
   "cell_type": "code",
   "execution_count": 54,
   "metadata": {
    "colab": {
     "base_uri": "https://localhost:8080/"
    },
    "id": "9OLRHh50tM4f",
    "outputId": "2d7bd467-9b61-46bf-d94e-1717ef50305a"
   },
   "outputs": [
    {
     "name": "stdout",
     "output_type": "stream",
     "text": [
      "\n",
      "Statisztikai összegzés:\n",
      "         Életkor        Salary\n",
      "count   5.000000      5.000000\n",
      "mean   28.000000  57600.000000\n",
      "std     4.949747  10784.247772\n",
      "min    22.000000  48000.000000\n",
      "25%    25.000000  50000.000000\n",
      "50%    28.000000  55000.000000\n",
      "75%    30.000000  60000.000000\n",
      "max    35.000000  75000.000000\n"
     ]
    }
   ],
   "source": [
    "# Adattábla összegzése\n",
    "summary = df.describe()\n",
    "print(\"\\nStatisztikai összegzés:\")\n",
    "print(summary)"
   ]
  }
 ],
 "metadata": {
  "colab": {
   "provenance": []
  },
  "kernelspec": {
   "display_name": ".fejlettkepfvenv (3.13.2)",
   "language": "python",
   "name": "python3"
  },
  "language_info": {
   "codemirror_mode": {
    "name": "ipython",
    "version": 3
   },
   "file_extension": ".py",
   "mimetype": "text/x-python",
   "name": "python",
   "nbconvert_exporter": "python",
   "pygments_lexer": "ipython3",
   "version": "3.13.2"
  }
 },
 "nbformat": 4,
 "nbformat_minor": 0
}
